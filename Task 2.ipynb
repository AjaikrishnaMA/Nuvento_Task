{
 "cells": [
  {
   "cell_type": "code",
   "execution_count": 6,
   "id": "5e657f5b",
   "metadata": {},
   "outputs": [],
   "source": [
    "import pandas as pd"
   ]
  },
  {
   "cell_type": "code",
   "execution_count": 7,
   "id": "b9da5224",
   "metadata": {},
   "outputs": [],
   "source": [
    "import mysql.connector"
   ]
  },
  {
   "cell_type": "code",
   "execution_count": 8,
   "id": "d9c512e6",
   "metadata": {},
   "outputs": [],
   "source": [
    "db_con = mysql.connector.connect(host='localhost',user='root',password='Password@123')\n",
    "cursor=db_con.cursor()"
   ]
  },
  {
   "cell_type": "code",
   "execution_count": 9,
   "id": "7afecf34",
   "metadata": {},
   "outputs": [
    {
     "data": {
      "text/html": [
       "<div>\n",
       "<style scoped>\n",
       "    .dataframe tbody tr th:only-of-type {\n",
       "        vertical-align: middle;\n",
       "    }\n",
       "\n",
       "    .dataframe tbody tr th {\n",
       "        vertical-align: top;\n",
       "    }\n",
       "\n",
       "    .dataframe thead th {\n",
       "        text-align: right;\n",
       "    }\n",
       "</style>\n",
       "<table border=\"1\" class=\"dataframe\">\n",
       "  <thead>\n",
       "    <tr style=\"text-align: right;\">\n",
       "      <th></th>\n",
       "      <th>SourceTableName</th>\n",
       "      <th>SourceColumnName</th>\n",
       "      <th>TargetTableName</th>\n",
       "      <th>TargetColumnName</th>\n",
       "    </tr>\n",
       "  </thead>\n",
       "  <tbody>\n",
       "    <tr>\n",
       "      <th>0</th>\n",
       "      <td>PSRW_HealthOfficeVisits</td>\n",
       "      <td>Actions</td>\n",
       "      <td>OfficeVisit</td>\n",
       "      <td>Actions_Health_Visit</td>\n",
       "    </tr>\n",
       "    <tr>\n",
       "      <th>1</th>\n",
       "      <td>PSRW_HealthOfficeVisits</td>\n",
       "      <td>Assessment</td>\n",
       "      <td>OfficeVisit</td>\n",
       "      <td>Assessment_Comments</td>\n",
       "    </tr>\n",
       "    <tr>\n",
       "      <th>2</th>\n",
       "      <td>PSRW_HealthOfficeVisits</td>\n",
       "      <td>ID</td>\n",
       "      <td>OfficeVisit</td>\n",
       "      <td>Health_Visit_ID</td>\n",
       "    </tr>\n",
       "    <tr>\n",
       "      <th>3</th>\n",
       "      <td>PSRW_HealthOfficeVisits</td>\n",
       "      <td>Outcome</td>\n",
       "      <td>OfficeVisit</td>\n",
       "      <td>Screening_Outcome</td>\n",
       "    </tr>\n",
       "    <tr>\n",
       "      <th>4</th>\n",
       "      <td>PSRW_HealthOfficeVisits</td>\n",
       "      <td>Outcome_ID</td>\n",
       "      <td>OfficeVisit</td>\n",
       "      <td>NaN</td>\n",
       "    </tr>\n",
       "    <tr>\n",
       "      <th>...</th>\n",
       "      <td>...</td>\n",
       "      <td>...</td>\n",
       "      <td>...</td>\n",
       "      <td>...</td>\n",
       "    </tr>\n",
       "    <tr>\n",
       "      <th>333</th>\n",
       "      <td>PSRW_SchoolEnrollment</td>\n",
       "      <td>SourceID</td>\n",
       "      <td>StudentDetails</td>\n",
       "      <td>NaN</td>\n",
       "    </tr>\n",
       "    <tr>\n",
       "      <th>334</th>\n",
       "      <td>PSRW_SchoolEnrollment</td>\n",
       "      <td>SourceTable</td>\n",
       "      <td>STUDENUdostring</td>\n",
       "      <td>NaN</td>\n",
       "    </tr>\n",
       "    <tr>\n",
       "      <th>335</th>\n",
       "      <td>PSRW_SchoolEnrollment</td>\n",
       "      <td>StudentID</td>\n",
       "      <td>StudentProfile</td>\n",
       "      <td>StudentID</td>\n",
       "    </tr>\n",
       "    <tr>\n",
       "      <th>336</th>\n",
       "      <td>PSRW_SchoolEnrollment</td>\n",
       "      <td>TermID</td>\n",
       "      <td>TermsDetabli</td>\n",
       "      <td>NaN</td>\n",
       "    </tr>\n",
       "    <tr>\n",
       "      <th>337</th>\n",
       "      <td>PSRW_SchoolEnrollment</td>\n",
       "      <td>YearID</td>\n",
       "      <td>TermsDetabli</td>\n",
       "      <td>NaN</td>\n",
       "    </tr>\n",
       "  </tbody>\n",
       "</table>\n",
       "<p>338 rows × 4 columns</p>\n",
       "</div>"
      ],
      "text/plain": [
       "             SourceTableName SourceColumnName  TargetTableName  \\\n",
       "0    PSRW_HealthOfficeVisits          Actions      OfficeVisit   \n",
       "1    PSRW_HealthOfficeVisits       Assessment      OfficeVisit   \n",
       "2    PSRW_HealthOfficeVisits               ID      OfficeVisit   \n",
       "3    PSRW_HealthOfficeVisits          Outcome      OfficeVisit   \n",
       "4    PSRW_HealthOfficeVisits       Outcome_ID      OfficeVisit   \n",
       "..                       ...              ...              ...   \n",
       "333    PSRW_SchoolEnrollment         SourceID   StudentDetails   \n",
       "334    PSRW_SchoolEnrollment      SourceTable  STUDENUdostring   \n",
       "335    PSRW_SchoolEnrollment        StudentID   StudentProfile   \n",
       "336    PSRW_SchoolEnrollment           TermID     TermsDetabli   \n",
       "337    PSRW_SchoolEnrollment           YearID     TermsDetabli   \n",
       "\n",
       "         TargetColumnName  \n",
       "0    Actions_Health_Visit  \n",
       "1     Assessment_Comments  \n",
       "2         Health_Visit_ID  \n",
       "3       Screening_Outcome  \n",
       "4                     NaN  \n",
       "..                    ...  \n",
       "333                   NaN  \n",
       "334                   NaN  \n",
       "335             StudentID  \n",
       "336                   NaN  \n",
       "337                   NaN  \n",
       "\n",
       "[338 rows x 4 columns]"
      ]
     },
     "execution_count": 9,
     "metadata": {},
     "output_type": "execute_result"
    }
   ],
   "source": [
    "data=pd.read_excel(\"C:/Users/USER/Downloads/source_target_field_map.xlsx\")\n",
    "data"
   ]
  },
  {
   "cell_type": "code",
   "execution_count": 10,
   "id": "43527b2a",
   "metadata": {},
   "outputs": [],
   "source": [
    "source=data.drop(['TargetTableName','TargetColumnName'],axis=1)\n",
    "target=data.drop(['SourceTableName','SourceColumnName'],axis=1)"
   ]
  },
  {
   "cell_type": "code",
   "execution_count": 13,
   "id": "bbadff6a",
   "metadata": {},
   "outputs": [],
   "source": [
    "source['SourceColun']=source['SourceTableName'] +\" \"+ source['SourceColumnName']\n",
    "target['TargetColun']=target['TargetTableName'] +\" \"+ target['TargetColumnName']"
   ]
  },
  {
   "cell_type": "code",
   "execution_count": 14,
   "id": "9b7d54ec",
   "metadata": {},
   "outputs": [
    {
     "data": {
      "text/html": [
       "<div>\n",
       "<style scoped>\n",
       "    .dataframe tbody tr th:only-of-type {\n",
       "        vertical-align: middle;\n",
       "    }\n",
       "\n",
       "    .dataframe tbody tr th {\n",
       "        vertical-align: top;\n",
       "    }\n",
       "\n",
       "    .dataframe thead th {\n",
       "        text-align: right;\n",
       "    }\n",
       "</style>\n",
       "<table border=\"1\" class=\"dataframe\">\n",
       "  <thead>\n",
       "    <tr style=\"text-align: right;\">\n",
       "      <th></th>\n",
       "      <th>SourceTableName</th>\n",
       "      <th>SourceColumnName</th>\n",
       "      <th>SourceColun</th>\n",
       "    </tr>\n",
       "  </thead>\n",
       "  <tbody>\n",
       "    <tr>\n",
       "      <th>0</th>\n",
       "      <td>PSRW_HealthOfficeVisits</td>\n",
       "      <td>Actions</td>\n",
       "      <td>PSRW_HealthOfficeVisits Actions</td>\n",
       "    </tr>\n",
       "    <tr>\n",
       "      <th>1</th>\n",
       "      <td>PSRW_HealthOfficeVisits</td>\n",
       "      <td>Assessment</td>\n",
       "      <td>PSRW_HealthOfficeVisits Assessment</td>\n",
       "    </tr>\n",
       "    <tr>\n",
       "      <th>2</th>\n",
       "      <td>PSRW_HealthOfficeVisits</td>\n",
       "      <td>ID</td>\n",
       "      <td>PSRW_HealthOfficeVisits ID</td>\n",
       "    </tr>\n",
       "    <tr>\n",
       "      <th>3</th>\n",
       "      <td>PSRW_HealthOfficeVisits</td>\n",
       "      <td>Outcome</td>\n",
       "      <td>PSRW_HealthOfficeVisits Outcome</td>\n",
       "    </tr>\n",
       "    <tr>\n",
       "      <th>4</th>\n",
       "      <td>PSRW_HealthOfficeVisits</td>\n",
       "      <td>Outcome_ID</td>\n",
       "      <td>PSRW_HealthOfficeVisits Outcome_ID</td>\n",
       "    </tr>\n",
       "  </tbody>\n",
       "</table>\n",
       "</div>"
      ],
      "text/plain": [
       "           SourceTableName SourceColumnName  \\\n",
       "0  PSRW_HealthOfficeVisits          Actions   \n",
       "1  PSRW_HealthOfficeVisits       Assessment   \n",
       "2  PSRW_HealthOfficeVisits               ID   \n",
       "3  PSRW_HealthOfficeVisits          Outcome   \n",
       "4  PSRW_HealthOfficeVisits       Outcome_ID   \n",
       "\n",
       "                          SourceColun  \n",
       "0     PSRW_HealthOfficeVisits Actions  \n",
       "1  PSRW_HealthOfficeVisits Assessment  \n",
       "2          PSRW_HealthOfficeVisits ID  \n",
       "3     PSRW_HealthOfficeVisits Outcome  \n",
       "4  PSRW_HealthOfficeVisits Outcome_ID  "
      ]
     },
     "execution_count": 14,
     "metadata": {},
     "output_type": "execute_result"
    }
   ],
   "source": [
    "source.head()"
   ]
  },
  {
   "cell_type": "code",
   "execution_count": 15,
   "id": "2645a0a6",
   "metadata": {},
   "outputs": [
    {
     "name": "stdout",
     "output_type": "stream",
     "text": [
      "['PSRW_HealthOfficeVisits', 'PS_Enrollment_Al', 'PSRW_HealthGradeLevel', 'PSRW_HealthImmunization', 'PSRW_HealthImmunizationDoses', 'PSRW_HealthMedical', 'PSRW_HealthScreeningTypes', 'PSRW_HealthScreeningWaiver', 'PSRW_HealthStudHearing', 'PSRW_HealthStudOral', 'PSRW_HealthStudScoliosis', 'PSRW_HealthStudTuberculosis', 'PSRW_HealthStudVision', 'PSRW_HealthVitalSigns', 'VWStudentCoreFieldsUC', 'DistrictSchoolView', 'PSSIS_Student_Demographics', 'PSSIS_Student_Enrollments', 'PSRW_SchoolEnrollment']\n"
     ]
    }
   ],
   "source": [
    "lst1=source.SourceTableName.unique().tolist()\n",
    "print(lst1)"
   ]
  },
  {
   "cell_type": "code",
   "execution_count": 20,
   "id": "de61d8c8",
   "metadata": {},
   "outputs": [
    {
     "ename": "ProgrammingError",
     "evalue": "1064 (42000): You have an error in your SQL syntax; check the manual that corresponds to your MySQL server version for the right syntax to use near ')' at line 1",
     "output_type": "error",
     "traceback": [
      "\u001b[1;31m---------------------------------------------------------------------------\u001b[0m",
      "\u001b[1;31mMySQLInterfaceError\u001b[0m                       Traceback (most recent call last)",
      "\u001b[1;32m~\\anaconda3\\lib\\site-packages\\mysql\\connector\\connection_cext.py\u001b[0m in \u001b[0;36mcmd_query\u001b[1;34m(self, query, raw, buffered, raw_as_string)\u001b[0m\n\u001b[0;32m    534\u001b[0m                 \u001b[0mquery\u001b[0m \u001b[1;33m=\u001b[0m \u001b[0mquery\u001b[0m\u001b[1;33m.\u001b[0m\u001b[0mencode\u001b[0m\u001b[1;33m(\u001b[0m\u001b[1;34m'utf-8'\u001b[0m\u001b[1;33m)\u001b[0m\u001b[1;33m\u001b[0m\u001b[1;33m\u001b[0m\u001b[0m\n\u001b[1;32m--> 535\u001b[1;33m             self._cmysql.query(query,\n\u001b[0m\u001b[0;32m    536\u001b[0m                                \u001b[0mraw\u001b[0m\u001b[1;33m=\u001b[0m\u001b[0mraw\u001b[0m\u001b[1;33m,\u001b[0m \u001b[0mbuffered\u001b[0m\u001b[1;33m=\u001b[0m\u001b[0mbuffered\u001b[0m\u001b[1;33m,\u001b[0m\u001b[1;33m\u001b[0m\u001b[1;33m\u001b[0m\u001b[0m\n",
      "\u001b[1;31mMySQLInterfaceError\u001b[0m: You have an error in your SQL syntax; check the manual that corresponds to your MySQL server version for the right syntax to use near ')' at line 1",
      "\nDuring handling of the above exception, another exception occurred:\n",
      "\u001b[1;31mProgrammingError\u001b[0m                          Traceback (most recent call last)",
      "\u001b[1;32m~\\AppData\\Local\\Temp/ipykernel_1800/455042997.py\u001b[0m in \u001b[0;36m<module>\u001b[1;34m\u001b[0m\n\u001b[0;32m     14\u001b[0m         \u001b[0mquery\u001b[0m\u001b[1;33m=\u001b[0m\u001b[0mquery\u001b[0m \u001b[1;33m+\u001b[0m \u001b[1;34m\");\"\u001b[0m\u001b[1;33m\u001b[0m\u001b[1;33m\u001b[0m\u001b[0m\n\u001b[0;32m     15\u001b[0m         \u001b[0mcursor\u001b[0m\u001b[1;33m.\u001b[0m\u001b[0mexecute\u001b[0m\u001b[1;33m(\u001b[0m\u001b[1;34m\"use task1\"\u001b[0m\u001b[1;33m)\u001b[0m\u001b[1;33m\u001b[0m\u001b[1;33m\u001b[0m\u001b[0m\n\u001b[1;32m---> 16\u001b[1;33m         \u001b[0mcursor\u001b[0m\u001b[1;33m.\u001b[0m\u001b[0mexecute\u001b[0m\u001b[1;33m(\u001b[0m\u001b[0mquery\u001b[0m\u001b[1;33m)\u001b[0m\u001b[1;33m\u001b[0m\u001b[1;33m\u001b[0m\u001b[0m\n\u001b[0m\u001b[0;32m     17\u001b[0m \u001b[1;33m\u001b[0m\u001b[0m\n\u001b[0;32m     18\u001b[0m     \u001b[0mprint\u001b[0m\u001b[1;33m(\u001b[0m\u001b[0mquery\u001b[0m\u001b[1;33m)\u001b[0m\u001b[1;33m\u001b[0m\u001b[1;33m\u001b[0m\u001b[0m\n",
      "\u001b[1;32m~\\anaconda3\\lib\\site-packages\\mysql\\connector\\cursor_cext.py\u001b[0m in \u001b[0;36mexecute\u001b[1;34m(self, operation, params, multi)\u001b[0m\n\u001b[0;32m    267\u001b[0m \u001b[1;33m\u001b[0m\u001b[0m\n\u001b[0;32m    268\u001b[0m         \u001b[1;32mtry\u001b[0m\u001b[1;33m:\u001b[0m\u001b[1;33m\u001b[0m\u001b[1;33m\u001b[0m\u001b[0m\n\u001b[1;32m--> 269\u001b[1;33m             result = self._cnx.cmd_query(stmt, raw=self._raw,\n\u001b[0m\u001b[0;32m    270\u001b[0m                                          \u001b[0mbuffered\u001b[0m\u001b[1;33m=\u001b[0m\u001b[0mself\u001b[0m\u001b[1;33m.\u001b[0m\u001b[0m_buffered\u001b[0m\u001b[1;33m,\u001b[0m\u001b[1;33m\u001b[0m\u001b[1;33m\u001b[0m\u001b[0m\n\u001b[0;32m    271\u001b[0m                                          raw_as_string=self._raw_as_string)\n",
      "\u001b[1;32m~\\anaconda3\\lib\\site-packages\\mysql\\connector\\connection_cext.py\u001b[0m in \u001b[0;36mcmd_query\u001b[1;34m(self, query, raw, buffered, raw_as_string)\u001b[0m\n\u001b[0;32m    538\u001b[0m                                query_attrs=self._query_attrs)\n\u001b[0;32m    539\u001b[0m         \u001b[1;32mexcept\u001b[0m \u001b[0mMySQLInterfaceError\u001b[0m \u001b[1;32mas\u001b[0m \u001b[0mexc\u001b[0m\u001b[1;33m:\u001b[0m\u001b[1;33m\u001b[0m\u001b[1;33m\u001b[0m\u001b[0m\n\u001b[1;32m--> 540\u001b[1;33m             raise errors.get_mysql_exception(exc.errno, msg=exc.msg,\n\u001b[0m\u001b[0;32m    541\u001b[0m                                              sqlstate=exc.sqlstate)\n\u001b[0;32m    542\u001b[0m         \u001b[1;32mexcept\u001b[0m \u001b[0mAttributeError\u001b[0m\u001b[1;33m:\u001b[0m\u001b[1;33m\u001b[0m\u001b[1;33m\u001b[0m\u001b[0m\n",
      "\u001b[1;31mProgrammingError\u001b[0m: 1064 (42000): You have an error in your SQL syntax; check the manual that corresponds to your MySQL server version for the right syntax to use near ')' at line 1"
     ]
    }
   ],
   "source": [
    "for TableName in lst1:  \n",
    "    r_df = source[source[\"SourceTableName\"] == TableName] \n",
    "    s_col=r_df[\"SourceColumnName\"].tolist()\n",
    "    query=\"CREATE TABLE \" +  TableName + \" (\"\n",
    "    colQuery=\"\"\n",
    "    Col_count=0\n",
    "    for colName in lt_col:\n",
    "        Col_count=Col_count+1\n",
    "        colQuery=colName + \" varchar(40) \"\n",
    "        if(len(s_col)!=Col_count):\n",
    "            colQuery=colQuery+\",\" \n",
    "        query=query+\" \"+ colQuery \n",
    "        query=query + \");\"\n",
    "        cursor.execute(\"use task1\")\n",
    "        cursor.execute(query)\n",
    "\n",
    "    print(query)"
   ]
  },
  {
   "cell_type": "code",
   "execution_count": 19,
   "id": "b8c717af",
   "metadata": {},
   "outputs": [
    {
     "name": "stdout",
     "output_type": "stream",
     "text": [
      "['OfficeVisit', 'StudentProfile', 'StudentHealthCertification', 'Immunization', 'Inventory', 'ScreeningTypes', 'Waivers', 'Hearing', 'Oral/Dental', 'Scoliosis', 'Tuberclosis', 'Vision', 'VitalSigns', 'StudentContacts', 'SchoolDetails', nan, 'StudentDetails', 'SourceisasequDesequenceiue', 'STUDENUdostring', 'TermsDetabli']\n"
     ]
    }
   ],
   "source": [
    "lst2=target.TargetTableName.unique().tolist()\n",
    "print(lst2)"
   ]
  },
  {
   "cell_type": "code",
   "execution_count": null,
   "id": "47e10304",
   "metadata": {},
   "outputs": [],
   "source": []
  }
 ],
 "metadata": {
  "kernelspec": {
   "display_name": "Python 3 (ipykernel)",
   "language": "python",
   "name": "python3"
  },
  "language_info": {
   "codemirror_mode": {
    "name": "ipython",
    "version": 3
   },
   "file_extension": ".py",
   "mimetype": "text/x-python",
   "name": "python",
   "nbconvert_exporter": "python",
   "pygments_lexer": "ipython3",
   "version": "3.9.7"
  }
 },
 "nbformat": 4,
 "nbformat_minor": 5
}
